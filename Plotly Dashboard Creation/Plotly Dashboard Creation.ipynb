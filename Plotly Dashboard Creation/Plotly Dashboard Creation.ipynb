{
 "cells": [
  {
   "cell_type": "markdown",
   "metadata": {},
   "source": [
    "# Building a Dashboard in Plotly Dash"
   ]
  },
  {
   "cell_type": "markdown",
   "metadata": {},
   "source": [
    "A good set of visualisations is essential to any data presentation, taking the audience through a journey from data collection and EDA to effectively displaying your conclusions. Someone with even the most basic knowledge of data can be brought to understand your conclusions by having them shown pictorially. \n",
    "\n",
    "Yet, there is still methods you can employ to improve this further- dashboarding. A dashboard is an interactive visualisation that can show much more information than a single graph. You can make full use of your dataset to produce keen insights all while wowing them with your stunning visuals. Dashboarding is a valuable skill for any data practioner who has to regularly present to stakeholders.\n",
    "\n",
    "One of the most common dashboarding softwares is Tableau which has the advantage of being simple to use as well as providing a vast array of attractive displays. The main drawback to Tableau is its cost. \n",
    "\n",
    "Plotly on the other hand is free, when used as an importable package to Python. It still allows for a huge range of visualisations which you can customise to your heart's content. \n",
    "\n",
    "Dash is Plotly's dashboarding package which can be used in both Python and R. As you will see, it is easy to start but difficult to master. There is a gigantic collection of options/customisations you can employ, and what you can perform is limited by your imagination. You can build simple plots which can be change between different categories to full animations of how something changes over time.\n",
    "\n",
    "In this session you will be guided through how to set up a basic app which shows Pokemon statistics.\n",
    "\n",
    "## Learning Objectives\n",
    "\n",
    "### Core\n",
    "\n",
    "* Build a dashboard using Plotly Dash\n",
    "* Add Callbacks to dashboard to allow for interactivty\n",
    "\n",
    "### Stretch\n",
    "\n",
    "* Customise Dashboard by exploring dash documentation\n",
    "\n",
    "## Lesson Guide\n",
    "\n",
    "Installation <br>\n",
    "Setting up the app <br>\n",
    "Basic HTML <br>\n",
    "Building a bar chart <br>\n",
    "Adding a Callback <br>\n",
    "Multiple charts and multiple callbacks <br>\n",
    "Further Resources"
   ]
  },
  {
   "cell_type": "markdown",
   "metadata": {},
   "source": [
    "## Installation"
   ]
  },
  {
   "cell_type": "markdown",
   "metadata": {},
   "source": [
    "Install dash using pip:"
   ]
  },
  {
   "cell_type": "code",
   "execution_count": null,
   "metadata": {},
   "outputs": [],
   "source": [
    "pip install dash==1.11.0"
   ]
  },
  {
   "cell_type": "markdown",
   "metadata": {},
   "source": [
    "With the most recent version, all dependencies will be installed at the same time. <br>\n",
    "\n"
   ]
  },
  {
   "cell_type": "code",
   "execution_count": null,
   "metadata": {
    "ExecuteTime": {
     "end_time": "2020-05-04T19:06:22.027285Z",
     "start_time": "2020-05-04T19:06:20.558900Z"
    }
   },
   "outputs": [],
   "source": [
    "import dash"
   ]
  },
  {
   "cell_type": "markdown",
   "metadata": {},
   "source": [
    "## What is Dash?\n",
    "\n",
    "From plotly's website\n",
    "\n",
    "\"The Dash platform empowers Data Science teams to focus on the data and models, while producing and sharing enterprise-ready analytic apps that sit on top of Python and R models. What would typically require a team of back-end developers, front-end developers, and IT can all be done with Dash.\" (https://plot.ly/dash/)\n",
    "\n",
    "In other words, dash allows you to create exciting dashboards without requiring an extensive knowledge of computer science. When coding with dash you will build an app that will be run in your browser (locally though, not online). To do this, dash incorporates a significant amount of HTML. HTML stands for Hyper Text Markup Language and it is the building block of any webpage. When using, you will structure the page into different elements which tell the browser how to display the information. Typically, the browser will recognise these elements through tags. To see HTML in action, right click anywhere on this page and select inspect. If you hover over any element on the page, you should be able to see the elements in their natural form.\n",
    "\n",
    "The most common tags you will see are:\n",
    "\n",
    "* div - a division on the page\n",
    "* h1 - a header\n",
    "* p - a paragraph\n",
    "* ul - an unordered list\n",
    "* a - a hyperlink/URL\n",
    "\n",
    "We will be making use of just div and h1 during this exercise. One of the benefits of dash is that it will interface with the HTML for you, making it simpler to structure the app. \n",
    "\n",
    "For more info on html check out this guide: https://www.w3schools.com/html/html_intro.asp\n",
    "\n",
    "See below for images taken from some of the apps I have built.\n",
    "\n",
    "More examples can be found at https://dash-gallery.plotly.host/Portal/"
   ]
  },
  {
   "cell_type": "markdown",
   "metadata": {
    "ExecuteTime": {
     "end_time": "2020-05-01T14:18:30.034392Z",
     "start_time": "2020-05-01T14:18:29.717200Z"
    }
   },
   "source": [
    "![Cricket Dashboard](./Images/cricket.jpeg)"
   ]
  },
  {
   "cell_type": "markdown",
   "metadata": {},
   "source": [
    "![Star Wars Connections](./Images/starwars.jpeg)"
   ]
  },
  {
   "cell_type": "markdown",
   "metadata": {},
   "source": [
    "![Underground Planner](./Images/underground.jpeg)"
   ]
  },
  {
   "cell_type": "markdown",
   "metadata": {},
   "source": [
    "## Building a Basic App\n",
    "\n",
    "To build the dashboard you will first need to create the space to put it in. The following block will initialise the app. \n",
    "\n",
    "Try running the block."
   ]
  },
  {
   "cell_type": "code",
   "execution_count": null,
   "metadata": {
    "ExecuteTime": {
     "end_time": "2020-05-01T11:20:28.457311Z",
     "start_time": "2020-05-01T11:20:22.806100Z"
    }
   },
   "outputs": [],
   "source": [
    "app = dash.Dash(__name__) \n",
    "\n",
    "application = app.server \n",
    "if __name__ == '__main__':\n",
    "    application.run(debug=False)"
   ]
  },
  {
   "cell_type": "markdown",
   "metadata": {},
   "source": [
    "You should see some information about how the app is loading. Try clicking the link given at the top of the pink box. This is where the app will be running. You should currently be receiving an error as you have not populated it yet!\n",
    "\n",
    "Note: When creating an app you will need to include all the code in one block.\n",
    "\n",
    "\n",
    "Let's populate our app by adding our first division. To do this we will make use of Dash's components packages. "
   ]
  },
  {
   "cell_type": "code",
   "execution_count": null,
   "metadata": {
    "ExecuteTime": {
     "end_time": "2020-05-04T19:06:45.098562Z",
     "start_time": "2020-05-04T19:06:44.702226Z"
    }
   },
   "outputs": [],
   "source": [
    "import dash_html_components as html\n",
    "import dash_core_components as dcc "
   ]
  },
  {
   "cell_type": "markdown",
   "metadata": {},
   "source": [
    "To start we need to create the variable, app.layout which will hold all our tags.\n",
    "\n",
    "In this tag we will add our first division- html.Div (you may notice this is a different syntax to html itself which uses < >)\n",
    "\n",
    "All html.Div sections can be customised with an id. This is a super important step which we will come back to when introducing callback. To populate a division you will need to give it some children, a list which you can populate with other tags.\n",
    "\n",
    "Try running the below block, you should now see a blank page as you have created an empty division."
   ]
  },
  {
   "cell_type": "code",
   "execution_count": null,
   "metadata": {
    "ExecuteTime": {
     "end_time": "2020-05-01T11:36:03.946662Z",
     "start_time": "2020-05-01T11:32:24.036052Z"
    }
   },
   "outputs": [],
   "source": [
    "app = dash.Dash(__name__) \n",
    "\n",
    "app.layout=html.Div(id='main',children=[\n",
    "    \n",
    "])\n",
    "\n",
    "application = app.server\n",
    "if __name__ == '__main__':\n",
    "    application.run(debug=False)"
   ]
  },
  {
   "cell_type": "markdown",
   "metadata": {},
   "source": [
    "Let's add some features to our app. How about a title?\n",
    "\n",
    "Within the 'main' div (remember, this division will encompass the entire app) add in an html.H1. This is a header, you can get other types of header (H2,H3, etc) which are of different sizes. Give the header an id and add in a list called children, where you can add your title as a string.\n",
    "\n",
    "Try rerunning the code and you should see your title."
   ]
  },
  {
   "cell_type": "code",
   "execution_count": null,
   "metadata": {
    "ExecuteTime": {
     "end_time": "2020-05-01T11:41:12.134725Z",
     "start_time": "2020-05-01T11:36:08.753508Z"
    }
   },
   "outputs": [],
   "source": [
    "app = dash.Dash(__name__) \n",
    "\n",
    "app.layout=html.Div(id='main',children=[\n",
    "    html.H1(id='Header',children=['Data is the best!']),\n",
    "])\n",
    "\n",
    "application = app.server\n",
    "if __name__ == '__main__':\n",
    "    application.run(debug=False)"
   ]
  },
  {
   "cell_type": "markdown",
   "metadata": {},
   "source": [
    "Why is the title in the top left of the page? That is where the browser will try to anchor the element. Thankfully, dash allows each element to be customised using an argument called style. \n",
    "\n",
    "The style argument is a dictionary which allows for multiple different customisations. These are again built using the options you can get with html. \n",
    "\n",
    "Let's move the header to the middle of the page."
   ]
  },
  {
   "cell_type": "code",
   "execution_count": null,
   "metadata": {
    "ExecuteTime": {
     "end_time": "2020-04-30T16:15:16.090924Z",
     "start_time": "2020-04-30T16:14:37.610432Z"
    }
   },
   "outputs": [],
   "source": [
    "app = dash.Dash(__name__) \n",
    "\n",
    "app.layout=html.Div(id='main',children=[\n",
    "    html.H1(id='Header',children=['Data is the best!!'],style={'textAlign': 'center'}),\n",
    "])\n",
    "\n",
    "application = app.server\n",
    "if __name__ == '__main__':\n",
    "    application.run(debug=False)"
   ]
  },
  {
   "cell_type": "markdown",
   "metadata": {},
   "source": [
    "How about some colour? Let's change the text to red. \n",
    "If we want, we can change the background colour too. Let's do that to the whole division. You may notice when running most of the page is still white. That is because the division isn't very big yet- just the size of the header. We can change that too! \n",
    "\n",
    "You can also change font, font size as well as the objects position. In terms of colour, you have all the options that html allows (https://htmlcolorcodes.com/)"
   ]
  },
  {
   "cell_type": "code",
   "execution_count": null,
   "metadata": {
    "ExecuteTime": {
     "end_time": "2020-05-01T11:48:39.329107Z",
     "start_time": "2020-05-01T11:47:22.217423Z"
    }
   },
   "outputs": [],
   "source": [
    "app = dash.Dash(__name__) \n",
    "\n",
    "app.layout=html.Div(id='main',children=[\n",
    "        html.H1(id='Header',children=['Data is the best!!'],style={'textAlign': 'center','color':'Red'}),\n",
    "    ]\n",
    ")\n",
    "\n",
    "application = app.server\n",
    "if __name__ == '__main__':\n",
    "    application.run(debug=False)"
   ]
  },
  {
   "cell_type": "markdown",
   "metadata": {},
   "source": [
    "You can also enter colours using RGB, e.g. RGB(20,180,30) or hex code, e.g. #7FDBFF"
   ]
  },
  {
   "cell_type": "code",
   "execution_count": null,
   "metadata": {},
   "outputs": [],
   "source": [
    "app = dash.Dash(__name__) \n",
    "\n",
    "app.layout=html.Div(id='main',children=[\n",
    "        html.H1(id='Header',children=['Data is the best!!'],style={'textAlign': 'center','color':'Red','fontSize':200}),\n",
    "    ]\n",
    ")\n",
    "\n",
    "application = app.server\n",
    "if __name__ == '__main__':\n",
    "    application.run(debug=False)"
   ]
  },
  {
   "cell_type": "code",
   "execution_count": null,
   "metadata": {},
   "outputs": [],
   "source": [
    "app = dash.Dash(__name__) \n",
    "\n",
    "app.layout=html.Div(id='main',children=[\n",
    "        html.H1(id='Header',children=['Data is the best!!'],style={'textAlign': 'center','color':'Red','fontSize':200}),\n",
    "    ],\n",
    "    style={'backgroundColor':'Black'}\n",
    ")\n",
    "\n",
    "application = app.server\n",
    "if __name__ == '__main__':\n",
    "    application.run(debug=False)"
   ]
  },
  {
   "cell_type": "code",
   "execution_count": null,
   "metadata": {},
   "outputs": [],
   "source": [
    "app = dash.Dash(__name__) \n",
    "\n",
    "app.layout=html.Div(id='main',children=[\n",
    "        html.H1(id='Header',children=['Data is the best!!'],style={'textAlign': 'center','color':'Red','fontSize':200}),\n",
    "    ],\n",
    "    style={'backgroundColor':'black','height':600}\n",
    ")\n",
    "\n",
    "application = app.server\n",
    "if __name__ == '__main__':\n",
    "    application.run(debug=False)"
   ]
  },
  {
   "cell_type": "markdown",
   "metadata": {},
   "source": [
    "## Building a Bar Chart\n",
    "\n",
    "Now the space has been created it is time to add in a chart. We are going to use an open source Pokemon data set which lists each ones key statistics (Attack, Defense, HP, Speed, Special Attack and Special Defense).\n",
    "\n",
    "First, load in the data as a pandas data frame"
   ]
  },
  {
   "cell_type": "code",
   "execution_count": null,
   "metadata": {
    "ExecuteTime": {
     "end_time": "2020-05-04T19:11:12.756191Z",
     "start_time": "2020-05-04T19:11:12.733526Z"
    }
   },
   "outputs": [],
   "source": [
    "import pandas as pd\n",
    "pokedex=pd.read_csv('pokedex.csv').set_index('Name')\n",
    "pokedex.head()"
   ]
  },
  {
   "cell_type": "markdown",
   "metadata": {},
   "source": [
    "For now, let's create a bar chart for the first Pokemon, Bulbasaur.\n",
    "\n",
    "Note: We are not going to include the 'total' stat as it is the sum of all others"
   ]
  },
  {
   "cell_type": "code",
   "execution_count": null,
   "metadata": {
    "ExecuteTime": {
     "end_time": "2020-05-04T19:11:32.003218Z",
     "start_time": "2020-05-04T19:11:31.978421Z"
    }
   },
   "outputs": [],
   "source": [
    "attributes=['Attack','Defense','SpecialAttack','SpecialDefense','Speed','HP']"
   ]
  },
  {
   "cell_type": "code",
   "execution_count": null,
   "metadata": {
    "ExecuteTime": {
     "end_time": "2020-05-04T19:11:50.341464Z",
     "start_time": "2020-05-04T19:11:50.292341Z"
    }
   },
   "outputs": [],
   "source": [
    "bulbasaur=pokedex.loc[:'Bulbasaur'][attributes]\n",
    "bulbasaur"
   ]
  },
  {
   "cell_type": "markdown",
   "metadata": {},
   "source": [
    "To create the bar chart we will need to create a space for it. There is no html code for a graph, but dash does have its own component- dcc.Graph\n",
    "\n",
    "Again, we will need to give the element an id. This is crucial for callbacks. The other argument is figure, this is where we enter the information to form the graph, and it is a dictionary.\n",
    "\n",
    "The first key in this dictionary is data. The value is a list where the x values will be label and y values the data. For example, we can create three bars as \n",
    "follows. The final aspect of this list is the type, which needs to be bar.\n",
    "\n",
    "We can also add a layout key which acts in the same way as the style argument for an html element. \n",
    "\n",
    "Remember, we are adding to the children of the original division, which is a list- remember commas!"
   ]
  },
  {
   "cell_type": "code",
   "execution_count": null,
   "metadata": {
    "ExecuteTime": {
     "end_time": "2020-05-01T13:16:46.184367Z",
     "start_time": "2020-05-01T13:10:14.533823Z"
    }
   },
   "outputs": [],
   "source": [
    "app = dash.Dash(__name__) \n",
    "\n",
    "app.layout=html.Div(id='main',children=[\n",
    "    html.H1(id='Header',children=['Pokemon Stat Checker'],style={'textAlign': 'center'}),\n",
    "    dcc.Graph(id='bar',figure={\n",
    "            'data': [{'x': ['a','b','c'], 'y': [2,3,4], 'type': 'bar'}],\n",
    "            'layout':{'title':'Bulbasaur'}\n",
    "    })\n",
    "])\n",
    "\n",
    "application = app.server\n",
    "if __name__ == '__main__':\n",
    "    application.run(debug=False)"
   ]
  },
  {
   "cell_type": "markdown",
   "metadata": {},
   "source": [
    "How about some of our Pokemon data? I have used list comprehensions to quickly extract the statistics and values."
   ]
  },
  {
   "cell_type": "code",
   "execution_count": null,
   "metadata": {
    "ExecuteTime": {
     "end_time": "2020-05-04T19:12:18.175978Z",
     "start_time": "2020-05-04T19:12:12.554289Z"
    }
   },
   "outputs": [],
   "source": [
    "app = dash.Dash(__name__) \n",
    "\n",
    "app.layout=html.Div(id='main',children=[\n",
    "    html.H1(id='Header',children=['Pokemon Stat Checker'],style={'textAlign': 'center'}),\n",
    "    dcc.Graph(id='bar',figure={\n",
    "            'data': [{'x': [col for col in bulbasaur.columns], \n",
    "                      'y': [stat for stat in bulbasaur.loc['Bulbasaur']], \n",
    "                      'type': 'bar'}],\n",
    "            'layout':{'title':'Bulbasaur'}\n",
    "    })\n",
    "])\n",
    "\n",
    "application = app.server\n",
    "if __name__ == '__main__':\n",
    "    application.run(debug=False)"
   ]
  },
  {
   "cell_type": "code",
   "execution_count": null,
   "metadata": {},
   "outputs": [],
   "source": [
    "app = dash.Dash(__name__) \n",
    "\n",
    "app.layout=html.Div(id='main',children=[\n",
    "    html.H1(id='Header',children=['Pokemon Stat Checker'],style={'textAlign': 'center'}),\n",
    "    dcc.Graph(id='bar',figure={\n",
    "            'data': [{'x': [col for col in bulbasaur.columns], \n",
    "                      'y': [stat for stat in bulbasaur.loc['Bulbasaur']], \n",
    "                      'type': 'bar',\n",
    "                      'marker':{'color':['green','blue','yellow','red','purple','orange']}}],\n",
    "            'layout':{'title':'Bulbasaur'}\n",
    "    })\n",
    "])\n",
    "\n",
    "application = app.server\n",
    "if __name__ == '__main__':\n",
    "    application.run(debug=False)"
   ]
  },
  {
   "cell_type": "markdown",
   "metadata": {},
   "source": [
    "## Adding a callback\n",
    "\n",
    "We have now managed to display a bar chart on our app. But you can do this using matplotlib or seaborn already, so what's the fuss? Plotly has callback functions.\n",
    "\n",
    "Callbacks are the true power of the plotly dashboard. They allow you to create an interactive feature which calls back to the graph, updating the display. For example, you can add a drop down box with different options which will update the bar chart when selected. \n",
    "\n",
    "Let's add this to our app. Instead of displaying just one Pokemon, let's expand it to include all of them which a user can select.\n",
    "\n",
    "First we will need an interactive way of selecting a Pokemon- we could use a text input, where a user types a name in, but this would require them knowing the correct spelling. Instead we can use a dropdown which gives all the options.\n",
    "\n",
    "To add this is we use dcc.Dropdown. We need to add in some options as an argument. Each option you add must be in a dictionary format {'label':a label,'value':a value} contained in a list. The label is what is displayed to the user, and the value is what the callback will make use of. They can be the same. The Pokemon dataframe has 800, so to save us adding each one individually we can use a list comprehension again"
   ]
  },
  {
   "cell_type": "code",
   "execution_count": null,
   "metadata": {
    "ExecuteTime": {
     "end_time": "2020-05-01T13:22:21.379368Z",
     "start_time": "2020-05-01T13:22:09.127002Z"
    }
   },
   "outputs": [],
   "source": [
    "app = dash.Dash(__name__) \n",
    "\n",
    "app.layout=html.Div(id='main',children=[\n",
    "    html.H1(id='Header',children=['Pokemon Stat Checker'],style={'textAlign': 'center'}),\n",
    "    dcc.Graph(id='bar',figure={\n",
    "            'data': [{'x': [col for col in bulbasaur.columns], \n",
    "                      'y': [stat for stat in bulbasaur.loc['Bulbasaur']], \n",
    "                      'type': 'bar'}],\n",
    "            'layout':{'title':'My Bar Chart'}\n",
    "    })\n",
    "    dcc.Dropdown(id='drop',\n",
    "                    options=[{'label': i, 'value': i} for i in pokedex.index]\n",
    "                  \n",
    "               \n",
    "                )\n",
    "])\n",
    "\n",
    "\n",
    "\n",
    "application = app.server\n",
    "if __name__ == '__main__':\n",
    "    application.run(debug=False)"
   ]
  },
  {
   "cell_type": "markdown",
   "metadata": {},
   "source": [
    "If you look at it, it isn't doing too much as the dropdown isn't linked to the graph yet. This is where we add the callback. A callback involves two dependencies, Input and Output."
   ]
  },
  {
   "cell_type": "code",
   "execution_count": null,
   "metadata": {
    "ExecuteTime": {
     "end_time": "2020-05-04T19:06:57.320014Z",
     "start_time": "2020-05-04T19:06:57.313317Z"
    }
   },
   "outputs": [],
   "source": [
    "from dash.dependencies import Input, Output"
   ]
  },
  {
   "cell_type": "markdown",
   "metadata": {},
   "source": [
    "To set up a callback you need to first add underneath the app.layout- @app.callback. This takes two arguments, Output and Input. Notice, Input is in a list, this is because you can have multiple inputs to one output. (You can also have multiple outputs but we will leave that for now). \n",
    "\n",
    "Let's set up the callback for the graph. First of all we need to clear the information we entered for the graph, the callback will fill that in. All we need in that section for now is the graph element called with its id. \n",
    "\n",
    "Next, let's create the callback. We will first define our Output. It is going to the element 'bar' (see why id's are important?) and it will be filling in the 'figure' argument. You can output into any argument of an element- another common target is the style.\n",
    "\n",
    "Now we state where the input is coming from. That is 'drop' and we want its current value.\n",
    "\n",
    "Once we have defined the callback we need to create a function telling dash what to do with that callback. \n",
    "\n",
    "I've added in a variable, pokemon, that will subset the dataframe to the Pokemon we want. Notice I have used the argument 'value' throughout the function everytime I want to use that Pokemon's name.\n",
    "\n",
    "Also note how the code for the graph has moved to the callback function."
   ]
  },
  {
   "cell_type": "code",
   "execution_count": null,
   "metadata": {
    "ExecuteTime": {
     "end_time": "2020-05-04T19:13:14.464282Z",
     "start_time": "2020-05-04T19:13:03.180360Z"
    }
   },
   "outputs": [],
   "source": [
    "app = dash.Dash(__name__) \n",
    "\n",
    "app.layout=html.Div(id='main',children=[\n",
    "    html.H1(id='Header',children=['Pokemon Stat Checker'],style={'textAlign': 'center'}),\n",
    "    dcc.Graph(id='bar'),\n",
    "    dcc.Dropdown(id='drop',\n",
    "                    options=[{'label': i, 'value': i} for i in pokedex.index],\n",
    "                    value='Bulbasaur'\n",
    "            \n",
    "                    \n",
    "                )\n",
    "])\n",
    "\n",
    "@app.callback(Output('bar','figure'),\n",
    "            [Input('drop','value')])\n",
    "def figure_update(value):\n",
    "    pokemon=pokedex.loc[:value][attributes]\n",
    "    figure={'data': [{'x': [col for col in pokemon.columns], \n",
    "                      'y': [stat for stat in pokemon.loc[value]], 'type': 'bar'}],\n",
    "            'layout':{'title':value}\n",
    "    }\n",
    "    return figure\n",
    "        \n",
    "\n",
    "application = app.server\n",
    "if __name__ == '__main__':\n",
    "    application.run(debug=False)"
   ]
  },
  {
   "cell_type": "markdown",
   "metadata": {},
   "source": [
    "Adding colour to the bars"
   ]
  },
  {
   "cell_type": "code",
   "execution_count": null,
   "metadata": {
    "ExecuteTime": {
     "end_time": "2020-05-04T19:54:43.479823Z",
     "start_time": "2020-05-04T19:54:43.472835Z"
    }
   },
   "outputs": [],
   "source": [
    "type_colour_dict={'Grass':'Green','Fire':'Red','Water':'Blue','Electric':'Yellow','Bug':'olive','Ice':'skyblue',\n",
    "                 'Normal':'linen','Poison':'Purple','Ground':'Brown','Rock':'Grey','Fairy':'Teal',\n",
    "                 'Fighting':'Silver','Dark':'Black','Psychic':'Tan','Dragon':'Cyan','Ghost':'Magenta',\n",
    "                 'Steel':'lightgray','Flying':'azure'}"
   ]
  },
  {
   "cell_type": "code",
   "execution_count": null,
   "metadata": {
    "ExecuteTime": {
     "end_time": "2020-05-04T19:53:41.364287Z",
     "start_time": "2020-05-04T19:53:41.355075Z"
    }
   },
   "outputs": [],
   "source": [
    "def bar_colour(Type):\n",
    "    types=[]\n",
    "    for p_type in type_colour_dict.keys():\n",
    "        if p_type in Type:\n",
    "            types.append(type_colour_dict[p_type])\n",
    "    if len(types)>1:\n",
    "        colours=[types[0],types[1],types[0],types[1],types[0],types[1]]\n",
    "    else:\n",
    "        colours=types[0]\n",
    "    return colours\n",
    "            "
   ]
  },
  {
   "cell_type": "code",
   "execution_count": null,
   "metadata": {
    "ExecuteTime": {
     "end_time": "2020-05-04T19:55:29.526532Z",
     "start_time": "2020-05-04T19:54:45.110939Z"
    }
   },
   "outputs": [],
   "source": [
    "app = dash.Dash(__name__) \n",
    "\n",
    "app.layout=html.Div(id='main',children=[\n",
    "    html.H1(id='Header',children=['Pokemon Stat Checker'],style={'textAlign': 'center'}),\n",
    "    dcc.Graph(id='bar'),\n",
    "    dcc.Dropdown(id='drop',\n",
    "                    options=[{'label': i, 'value': i} for i in pokedex.index],\n",
    "                    value='Bulbasaur',            \n",
    "                )\n",
    "])\n",
    "\n",
    "@app.callback(Output('bar','figure'),\n",
    "            [Input('drop','value')])\n",
    "def figure_update(value):\n",
    "    pokemon=pokedex.loc[:value][attributes]\n",
    "    pokemon_type=pokedex.loc[value].Type\n",
    "    figure={'data': [{'x': [col for col in pokemon.columns], \n",
    "                      'y': [stat for stat in pokemon.loc[value]], \n",
    "                      'type': 'bar',\n",
    "                      'marker':{'color':bar_colour(pokemon_type)}}],\n",
    "            'layout':{'title':value}\n",
    "    }\n",
    "    return figure\n",
    "        \n",
    "\n",
    "application = app.server\n",
    "if __name__ == '__main__':\n",
    "    application.run(debug=False)"
   ]
  },
  {
   "cell_type": "markdown",
   "metadata": {},
   "source": [
    "Try using the dropdown and note how the bar chart changes for each one. You may also have noticed the ugly graph placeholder until you selected one. To avoid this, we can add an argument 'value' to the dropdown telling dash where it should start. We can also add the argument 'searchable' to allow users to type in a name to allow for quicker searching. Check out the documentation on dash to see what other features you can add.\n",
    "\n",
    "## Multiple Charts and Multiple Callbacks\n",
    "\n",
    "We now have a basic interactive dashboard, but there is so much more we can do! I'm going to show you how to add a second graph to the page and how to arrange it. Then I will show how you can add to your callbacks to allow for multiple inputs/outputs.\n",
    "\n",
    "The block below will add a pie chart for our basic Bulbasaur app (I'm ignoring the callbacks for now while introducing the layout steps). \n",
    "\n",
    "To set up the pie chart I am going to use a different method than I did for the bar chart. Plotly has a function called graph objects which allow for simple creations."
   ]
  },
  {
   "cell_type": "code",
   "execution_count": null,
   "metadata": {
    "ExecuteTime": {
     "end_time": "2020-05-04T19:07:00.964772Z",
     "start_time": "2020-05-04T19:07:00.958410Z"
    }
   },
   "outputs": [],
   "source": [
    "import plotly.graph_objs as go"
   ]
  },
  {
   "cell_type": "markdown",
   "metadata": {},
   "source": [
    "Under figure we add in go.Figure which uses more traditional arguments than a dictionary for inputs. Under the data argument we add in go.Pie and offer important features such as direction, labels and values as well as what colours I want each segment to be. Note the label and values arguments require lists while marker is a dictionary. Again, there are many more arguments you can play around with."
   ]
  },
  {
   "cell_type": "code",
   "execution_count": null,
   "metadata": {
    "ExecuteTime": {
     "end_time": "2020-05-01T13:45:48.640722Z",
     "start_time": "2020-05-01T13:45:40.215611Z"
    }
   },
   "outputs": [],
   "source": [
    "app = dash.Dash(__name__) \n",
    "\n",
    "app.layout=html.Div(id='main',children=[\n",
    "    html.H1(id='Header',children=['Pokemon Stat Checker'],style={'textAlign': 'center'}),\n",
    "    html.Div(children=[\n",
    "    dcc.Graph(id='bar',figure={\n",
    "            'data': [{'x': [col for col in bulbasaur.columns], \n",
    "                      'y': [stat for stat in bulbasaur.loc['Bulbasaur']], \n",
    "                      'type': 'bar'}],\n",
    "            'layout':{'title':'Bulbasaur'}\n",
    "    }),\n",
    "    dcc.Graph(id='pie',figure=go.Figure(data= go.Pie(title='Stat Proportion',\n",
    "                                          direction='clockwise',\n",
    "                                          labels=[col for col in bulbasaur.columns],\n",
    "                                          values=[bulbasaur[[col]].loc['Bulbasaur'][0] for col in bulbasaur.columns],\n",
    "                                          marker= {'colors': ['red','blue','yellow','green','purple','cyan']}\n",
    "                                         ),\n",
    "                         \n",
    "                         ))\n",
    "    ])\n",
    "])\n",
    "\n",
    "application = app.server\n",
    "if __name__ == '__main__':\n",
    "    application.run(debug=False)"
   ]
  },
  {
   "cell_type": "markdown",
   "metadata": {},
   "source": [
    "When you look at the dashboard the two graphs are stacked, what if you want them side by side? \n",
    "\n",
    "To do this we will need to wrap both graphs in their own division, which I have called graphs. Then, for both graphs we can add in the style argument and tell it where to display them."
   ]
  },
  {
   "cell_type": "code",
   "execution_count": null,
   "metadata": {
    "ExecuteTime": {
     "end_time": "2020-05-01T13:46:15.399800Z",
     "start_time": "2020-05-01T13:45:59.344182Z"
    }
   },
   "outputs": [],
   "source": [
    "app = dash.Dash(__name__) \n",
    "\n",
    "app.layout=html.Div(id='main',children=[\n",
    "    html.H1(id='Header',children=['Pokemon Stat Checker'],style={'textAlign': 'center'}),\n",
    "    html.Div(id='graphs',children=[\n",
    "    dcc.Graph(id='bar',figure={\n",
    "            'data': [{'x': [col for col in bulbasaur.columns], \n",
    "                      'y': [stat for stat in bulbasaur.loc['Bulbasaur']], \n",
    "                      'type': 'bar'}],\n",
    "            'layout':{'title':'Bulbasaur','width': '50%'}\n",
    "    },style={'display':'inline-block'}),\n",
    "    dcc.Graph(id='pie',figure=go.Figure(data= go.Pie(title='Stat Proportion',\n",
    "                                      direction='clockwise',\n",
    "                                      labels=[col for col in bulbasaur.columns],\n",
    "                                      values=[bulbasaur[[col]].loc['Bulbasaur'][0] for col in bulbasaur.columns],\n",
    "                                      marker= {'colors': ['red','blue','yellow','green','purple','cyan']}\n",
    "                                      \n",
    "                                     ),\n",
    "                         \n",
    "                         ),style={'display':'none'})\n",
    "    ])\n",
    "])\n",
    "\n",
    "application = app.server\n",
    "if __name__ == '__main__':\n",
    "    application.run(debug=False)"
   ]
  },
  {
   "cell_type": "markdown",
   "metadata": {},
   "source": [
    "### Callbacks\n",
    "\n",
    "Let's combine this with our callbacks. Again we will need to clear the graph info from the layout variable and move them into a callback function. \n",
    "\n",
    "Now, I could create a callback for each graph but that is going to double the amount of code we need. Why not have one callback output to two different places, particularly if they are utilising the same input? Note, the two outputs have to be contained in a list.\n",
    "\n",
    "In the callback function we will create the info for the two graphs and then return them seperately. Notice the order in the return is the same as the order of the outputs."
   ]
  },
  {
   "cell_type": "code",
   "execution_count": null,
   "metadata": {
    "ExecuteTime": {
     "end_time": "2020-05-04T20:00:33.313020Z",
     "start_time": "2020-05-04T19:59:59.596178Z"
    }
   },
   "outputs": [],
   "source": [
    "app = dash.Dash(__name__) \n",
    "\n",
    "app.layout=html.Div(id='main',children=[\n",
    "    html.H1(id='Header',children=['Pokemon Stat Checker'],style={'textAlign': 'center'}),\n",
    "    html.Div(id='graphs',children=[\n",
    "    dcc.Graph(id='bar',style={'display':'inline-block'}\n",
    "    ),\n",
    "    dcc.Graph(id='pie',style={'display':'inline-block'})\n",
    "    ]),\n",
    "    dcc.Dropdown(id='drop',\n",
    "                    options=[{'label': i, 'value': i} for i in pokedex.index],\n",
    "                    value='Bulbasaur',\n",
    "                    style={'display': 'inline-block',\n",
    "                          'width': '49%'}\n",
    "                )\n",
    "],\n",
    ")\n",
    "\n",
    "@app.callback([Output('bar','figure'),\n",
    "               Output('pie','figure')],\n",
    "            [Input('drop','value')])\n",
    "def figure_update(value):\n",
    "    pokemon=pokedex.loc[:value][attributes]\n",
    "    pokemon_type=pokedex.loc[value].Type\n",
    "    bar={'data': [{'x': [col for col in pokemon.columns], \n",
    "                   'y': [stat for stat in pokemon.loc[value]], \n",
    "                   'type': 'bar',\n",
    "                   'marker':{'color':bar_colour(pokemon_type)}}],\n",
    "            'layout':{'title':value}\n",
    "    }\n",
    "    pie=go.Figure(data= go.Pie(title='Stat Proportion',\n",
    "                                      direction='clockwise',\n",
    "                                      labels=[col for col in pokemon.columns],\n",
    "                                      values=[pokemon[[col]].loc[value][0] for col in pokemon.columns],\n",
    "                                      marker= {'colors': ['red','blue','yellow','green','purple','cyan']}\n",
    "                                      \n",
    "                                     ))\n",
    "    return bar, pie\n",
    "        \n",
    "\n",
    "application = app.server\n",
    "if __name__ == '__main__':\n",
    "    application.run(debug=False)"
   ]
  },
  {
   "cell_type": "markdown",
   "metadata": {},
   "source": [
    "## Final Example\n",
    "\n",
    "Finally, check out this block which will allow you to compare two Pokemon. I won't have time to go through it in the session, but you can check it in your own time.\n",
    "\n",
    "Key elements: \n",
    "\n",
    "* Radio Item: This allows users the option of selecting a compare function\n",
    "* Second Dropwdown: This element is hidden if the radio item is set to off. The first callback outputs to this dropdown's style. If on, the dropdown will be displayed, else it will be hidden\n",
    "* Multiple Inputs: This dashboard will either show a single bar chart or a combined one depending on the value of the radio item. The graphs output then is now dependent on three factors: the two Pokemon selected and if comparision is wanted. Note the Inputs are in a list. Also, the order of arguments in the function underneath must be in the same order as the inputs.\n",
    "* No duplication: I have added a callback which removes the first selected Pokemon for the options of the second dropdown. "
   ]
  },
  {
   "cell_type": "code",
   "execution_count": null,
   "metadata": {
    "ExecuteTime": {
     "end_time": "2020-05-04T19:20:32.744639Z",
     "start_time": "2020-05-04T19:20:22.362346Z"
    }
   },
   "outputs": [],
   "source": [
    "app = dash.Dash(__name__) \n",
    "\n",
    "app.layout=html.Div(id='main',children=[\n",
    "    html.H1(id='Header',children=['Pokemon Stat Checker'],style={'textAlign': 'center'}),\n",
    "    html.Div(id='graphs',children=[\n",
    "    dcc.Graph(id='bar'\n",
    "    )\n",
    "    ]),\n",
    "    dcc.Dropdown(id='drop',\n",
    "                    options=[{'label': i, 'value': i} for i in pokedex.index],\n",
    "                    value='Bulbasaur',\n",
    "                    searchable=True,\n",
    "                    \n",
    "                ),\n",
    "    dcc.RadioItems(id='two',\n",
    "                   options=[{'label':'Compare Off','value':1},{'label':'Compare On','value':2}],\n",
    "                   value=1,\n",
    "               ),\n",
    "    dcc.Dropdown(id='drop2',searchable=True)\n",
    "],\n",
    ")\n",
    "@app.callback(Output('drop2','style'),\n",
    "              [Input('two','value')])\n",
    "def drop_two(value):\n",
    "    if value==2:\n",
    "        return {'display': True}\n",
    "    else:\n",
    "        return {'display':'none'}\n",
    "    \n",
    "@app.callback(Output('drop2','options'),\n",
    "             [Input('drop','value')])\n",
    "\n",
    "def second_drop(value):\n",
    "    pokemon_list=[name for name in pokedex.index]\n",
    "    pokemon_list.remove(value)\n",
    "    options=[{'label': i, 'value': i} for i in pokemon_list]\n",
    "    return options\n",
    "    \n",
    "@app.callback(Output('bar','figure'),\n",
    "            [Input('drop','value'),\n",
    "             Input('two','value'),\n",
    "             Input('drop2','value')])\n",
    "def figure_update(value,compare,two):\n",
    "    pokemon=pokedex.loc[:value][attributes]\n",
    "    if compare==1:\n",
    "        bar={'data': [{'x': [col for col in pokemon.columns], 'y': [stat for stat in pokemon.loc[value]], 'type': 'bar'}],\n",
    "                'layout':{'title':value}\n",
    "        }\n",
    "        return bar\n",
    "    else:\n",
    "        pokemon2=pokedex.loc[:two][attributes]\n",
    "        fig = go.Figure(data=[\n",
    "            go.Bar(name=value, x=[col for col in pokemon.columns], y=[stat for stat in pokemon.loc[value]]),\n",
    "            go.Bar(name=two, x=[col for col in pokemon.columns], y=[stat for stat in pokemon2.loc[two]])\n",
    "        ])\n",
    "        return fig\n",
    "        \n",
    "\n",
    "application = app.server\n",
    "if __name__ == '__main__':\n",
    "    application.run(debug=False)"
   ]
  },
  {
   "cell_type": "markdown",
   "metadata": {},
   "source": [
    "## Another Pokemon Example\n",
    "\n",
    "Check out this [Pokemon Search Tool](Pokemon_Search_Tool.ipynb) for the code to create a searcheable Pokedex using dash"
   ]
  },
  {
   "cell_type": "markdown",
   "metadata": {},
   "source": [
    "## Further Resources\n",
    "\n",
    "* Check out Dash documentation to find other elements you can add (https://dash.plotly.com/)\n",
    "* HTML cheat sheet (https://www.w3schools.com/html/html_intro.asp)\n",
    "* Blog post this lesson is based on (https://www.atyson-datascience.com/post/building-a-dash-app)\n",
    "* How to deploy a dash app online using AWS (https://www.atyson-datascience.com/post/deploying-your-dash-app-to-aws)\n",
    "\n",
    "Also, you can check look at some examples of dash apps I have made: <br>\n",
    "Note: Some will only be online for the next week- AWS isn't cheap!\n",
    "\n",
    "* T20 Cricket Predictor (http://tysondashboard-dev.eu-west-2.elasticbeanstalk.com/)\n",
    "* Star Wars Character Connections (http://star-wars-characters-dev.eu-west-2.elasticbeanstalk.com/)\n",
    "* Underground Navigator (http://underground-dev.eu-west-2.elasticbeanstalk.com/)\n",
    "* Github where you can check the code for above apps (https://github.com/Alastair-Tyson)"
   ]
  },
  {
   "cell_type": "code",
   "execution_count": null,
   "metadata": {},
   "outputs": [],
   "source": []
  }
 ],
 "metadata": {
  "kernelspec": {
   "display_name": "Python 3",
   "language": "python",
   "name": "python3"
  },
  "language_info": {
   "codemirror_mode": {
    "name": "ipython",
    "version": 3
   },
   "file_extension": ".py",
   "mimetype": "text/x-python",
   "name": "python",
   "nbconvert_exporter": "python",
   "pygments_lexer": "ipython3",
   "version": "3.7.6"
  },
  "varInspector": {
   "cols": {
    "lenName": 16,
    "lenType": 16,
    "lenVar": 40
   },
   "kernels_config": {
    "python": {
     "delete_cmd_postfix": "",
     "delete_cmd_prefix": "del ",
     "library": "var_list.py",
     "varRefreshCmd": "print(var_dic_list())"
    },
    "r": {
     "delete_cmd_postfix": ") ",
     "delete_cmd_prefix": "rm(",
     "library": "var_list.r",
     "varRefreshCmd": "cat(var_dic_list()) "
    }
   },
   "types_to_exclude": [
    "module",
    "function",
    "builtin_function_or_method",
    "instance",
    "_Feature"
   ],
   "window_display": false
  }
 },
 "nbformat": 4,
 "nbformat_minor": 2
}
